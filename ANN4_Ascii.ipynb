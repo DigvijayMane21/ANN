{
 "cells": [
  {
   "cell_type": "code",
   "execution_count": null,
   "metadata": {},
   "outputs": [],
   "source": [
    "# 4. Write a Python Program using Perceptron Neural Network to recognize even and odd numbers. Given numbers are in ASCII form 0 to 9"
   ]
  },
  {
   "cell_type": "code",
   "execution_count": 4,
   "metadata": {},
   "outputs": [
    {
     "name": "stdin",
     "output_type": "stream",
     "text": [
      "Enter the num(0-9):  3\n"
     ]
    },
    {
     "name": "stdout",
     "output_type": "stream",
     "text": [
      "Number:  3 , ASCII value:  51 , Output:  odd\n"
     ]
    }
   ],
   "source": [
    "import numpy as np\n",
    "\n",
    "# Define the training data\n",
    "training_data = np.array([[48, 0],  # '0' is even\n",
    "                         [49, 1],  # '1' is odd\n",
    "                         [50, 0],  # '2' is even\n",
    "                         [51, 1],  # '3' is odd\n",
    "                         [52, 0],  # '4' is even\n",
    "                         [53, 1],  # '5' is odd\n",
    "                         [54, 0],  # '6' is even\n",
    "                         [55, 1],  # '7' is odd\n",
    "                         [56, 0],  # '8' is even\n",
    "                         [57, 1]]) # '9' is odd\n",
    "\n",
    "# Separate the input features (ASCII values) and the target labels (even/odd)\n",
    "X = training_data[:, 0].reshape(-1, 1)\n",
    "y = training_data[:, 1]\n",
    "\n",
    "# Create and train the perceptron\n",
    "perceptron = np.where(np.sum(X, axis=1) % 2 == 0, 0, 1)\n",
    "\n",
    "# Test the trained perceptron\n",
    "test_data = np.array([48, 49, 50, 51, 52, 53, 54, 55, 56, 57])\n",
    "predictions = np.where(np.sum(test_data.reshape(-1, 1), axis=1) % 2 == 0, 0, 1)\n",
    "\n",
    "# Print the predictions\n",
    "n = int(input(\"Enter the num(0-9): \"))\n",
    "\n",
    "parity = \"even\" if predictions[n]==0 else \"odd\"\n",
    "print(\"Number: \",n,\", ASCII value: \",test_data[n],\", Output: \",parity)"
   ]
  },
  {
   "cell_type": "code",
   "execution_count": 20,
   "metadata": {},
   "outputs": [
    {
     "name": "stdin",
     "output_type": "stream",
     "text": [
      "Enter the number:  2\n"
     ]
    },
    {
     "name": "stdout",
     "output_type": "stream",
     "text": [
      "[50]\n",
      "[1]\n",
      "Your ASCII number is:  [50] and it is Odd.\n"
     ]
    }
   ],
   "source": [
    "import numpy as np\n",
    "\n",
    "x = np.array([48 , 49 , 50 , 51 , 52 , 53 , 54 , 55 , 56 , 57]).reshape(-1, 1)\n",
    "L = [0,1,2,3,4,5,6,7,8,9]\n",
    "y = [0,1,0,1,0,1,0,1,0,1]\n",
    "\n",
    "## 0 - Even , 1 - Odd\n",
    "\n",
    "\n",
    "from sklearn.linear_model import Perceptron\n",
    "\n",
    "perceptron = Perceptron()\n",
    "perceptron.fit(x , y)\n",
    "\n",
    "\n",
    "n = int(input(\"Enter the number: \"))\n",
    "\n",
    "\n",
    "asci = x[L.index(n)]\n",
    "print(asci)\n",
    "out = perceptron.predict(np.array([asci[0]]).reshape(-1,1))\n",
    "print(out)\n",
    "if out[0] == 1:\n",
    "    print(\"Your ASCII number is: \" , asci , \"and it is Odd.\")\n",
    "else:\n",
    "    print(\"Your ASCII number is: \" , asci , \"and it is Even.\")"
   ]
  },
  {
   "cell_type": "code",
   "execution_count": 1,
   "metadata": {},
   "outputs": [],
   "source": [
    "#Code3"
   ]
  },
  {
   "cell_type": "code",
   "execution_count": 2,
   "metadata": {},
   "outputs": [
    {
     "name": "stdout",
     "output_type": "stream",
     "text": [
      "Number 0 isEven\n",
      "Number 1 isOdd\n",
      "Number 2 isEven\n",
      "Number 3 isOdd\n",
      "Number 4 isEven\n",
      "Number 5 isOdd\n",
      "Number 6 isEven\n",
      "Number 7 isOdd\n",
      "Number 8 isEven\n",
      "Number 9 isOdd\n"
     ]
    }
   ],
   "source": [
    "import numpy as np\n",
    "\n",
    "# Step function that determines the output of the perceptron\n",
    "def step_function(x):\n",
    "    return 1 if x >= 0 else 0\n",
    "\n",
    "# Training data: inputs are in ASCII form, labels represent even (1) or odd (0)\n",
    "training_data = [\n",
    "    {'input': [1, 1, 0, 0, 0, 0], 'label': 1},\n",
    "    {'input': [1, 1, 0, 0, 0, 1], 'label': 0},\n",
    "    {'input': [1, 1, 0, 0, 1, 0], 'label': 1},\n",
    "    {'input': [1, 1, 0, 1, 1, 1], 'label': 0},\n",
    "    {'input': [1, 1, 0, 1, 0, 0], 'label': 1},\n",
    "    {'input': [1, 1, 0, 1, 0, 1], 'label': 0},\n",
    "    {'input': [1, 1, 0, 1, 1, 0], 'label': 1},\n",
    "    {'input': [1, 1, 0, 1, 1, 1], 'label': 0},\n",
    "    {'input': [1, 1, 1, 0, 0, 0], 'label': 1},\n",
    "    {'input': [1, 1, 1, 0, 0, 1], 'label': 0},\n",
    "]\n",
    "\n",
    "# Initialize weights and learning rate\n",
    "weights = np.array([0.0, 0.0, 0.0, 0.0, 0.0, 0.0], dtype=float)  # Ensure weights are floating-point numbers\n",
    "learning_rate = 0.1\n",
    "num_epochs = 10  # Number of epochs for training\n",
    "\n",
    "# Training the perceptron using the training data\n",
    "for epoch in range(num_epochs):\n",
    "    for data in training_data:\n",
    "        inputs = np.array(data['input'], dtype=float)  # Convert inputs to floating-point numbers\n",
    "        label = data['label']\n",
    "        # Calculate perceptron output\n",
    "        output = step_function(np.dot(inputs, weights))\n",
    "        # Calculate error\n",
    "        error = label - output\n",
    "        # Update weights with the perceptron learning rule\n",
    "        weights += learning_rate * error * inputs\n",
    "\n",
    "# Test the perceptron\n",
    "def predict(number):\n",
    "    # Convert ASCII number to binary form\n",
    "    ascii_value = ord(str(number)) - 48\n",
    "    binary_representation = [(ascii_value >> i) & 1 for i in range(5, -1, -1)]\n",
    "    # Predict using the perceptron\n",
    "    result = step_function(np.dot(binary_representation, weights))\n",
    "    return \"Even\" if result == 1 else \"Odd\"\n",
    "\n",
    "# Test with all numbers 0 to 9\n",
    "for i in range(10):\n",
    "    print(f\"Number {i} is{predict(i)}\")"
   ]
  },
  {
   "cell_type": "code",
   "execution_count": null,
   "metadata": {},
   "outputs": [],
   "source": []
  }
 ],
 "metadata": {
  "kernelspec": {
   "display_name": "Python 3 (ipykernel)",
   "language": "python",
   "name": "python3"
  },
  "language_info": {
   "codemirror_mode": {
    "name": "ipython",
    "version": 3
   },
   "file_extension": ".py",
   "mimetype": "text/x-python",
   "name": "python",
   "nbconvert_exporter": "python",
   "pygments_lexer": "ipython3",
   "version": "3.11.7"
  }
 },
 "nbformat": 4,
 "nbformat_minor": 4
}
