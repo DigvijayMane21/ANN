{
 "cells": [
  {
   "cell_type": "code",
   "execution_count": 1,
   "metadata": {},
   "outputs": [],
   "source": [
    "# 3. Generate ANDNOT function using McCulloch-Pitts neural net by a python program."
   ]
  },
  {
   "cell_type": "code",
   "execution_count": 1,
   "metadata": {},
   "outputs": [
    {
     "name": "stdout",
     "output_type": "stream",
     "text": [
      "ANDNOT Truth Table\n",
      "X1\tX2\t Y\n",
      "------------------\n",
      "0 \t 0 \t 0\n",
      "0 \t 1 \t 0\n",
      "1 \t 0 \t 1\n",
      "1 \t 1 \t 0\n"
     ]
    }
   ],
   "source": [
    "def and_not(inputs,weights):\n",
    "    print('ANDNOT Truth Table')\n",
    "    print('X1\\tX2\\t Y')\n",
    "    print('------------------')\n",
    "    \n",
    "    for i in inputs:\n",
    "        weighted_sum = i[0]*weights[0] + i[1]*weights[1]\n",
    "        if weighted_sum >=1 :\n",
    "            print(i[0],\"\\t\",i[1],\"\\t\",1)\n",
    "        else : \n",
    "            print(i[0],\"\\t\",i[1],\"\\t\",0)\n",
    "\n",
    "inputs = [[0,0],[0,1],[1,0],[1,1]]\n",
    "weights = [1,-1]\n",
    "and_not(inputs,weights)"
   ]
  },
  {
   "cell_type": "code",
   "execution_count": 4,
   "metadata": {},
   "outputs": [
    {
     "name": "stdout",
     "output_type": "stream",
     "text": [
      "Inputs: [0 0]\n",
      "ANDNOT output: False\n",
      "Inputs: [0 1]\n",
      "ANDNOT output: False\n",
      "Inputs: [1 0]\n",
      "ANDNOT output: True\n",
      "Inputs: [1 1]\n",
      "ANDNOT output: False\n"
     ]
    }
   ],
   "source": [
    "import numpy as np\n",
    "\n",
    "# Define the McCulloch-Pitts neural network\n",
    "def mcculloch_pitts(input_size):\n",
    "    weights = np.zeros(input_size)\n",
    "    bias = 0\n",
    "    \n",
    "    def predict(inputs):\n",
    "        linear_combination = np.dot(weights, inputs) + bias\n",
    "        return 1 if linear_combination >= 0 else 0\n",
    "    \n",
    "    def train(inputs, expected_outputs, learning_rate, epochs):\n",
    "        nonlocal weights, bias  # Access outer scope variables for modification\n",
    "        for epoch in range(epochs):\n",
    "            for input, expected_output in zip(inputs, expected_outputs):\n",
    "                prediction = predict(input)\n",
    "                error = expected_output - prediction\n",
    "                weights += learning_rate * error * input\n",
    "                bias += learning_rate * error\n",
    "    \n",
    "    return predict, train\n",
    "\n",
    "# Define the inputs and expected outputs for the ANDNOT function\n",
    "inputs = np.array([[0, 0], [0, 1], [1, 0], [1, 1]])\n",
    "expected_outputs = np.array([0, 0, 1, 0])\n",
    "\n",
    "# Create a McCulloch-Pitts neural network with 2 inputs\n",
    "predict, train = mcculloch_pitts(2)\n",
    "\n",
    "# Train the neural network using the perceptron learning rule\n",
    "learning_rate = 0.1\n",
    "epochs = 10\n",
    "train(inputs, expected_outputs, learning_rate, epochs)\n",
    "\n",
    "# Test the neural network on the inputs\n",
    "for input in inputs:\n",
    "    print(f\"Inputs: {input}\")\n",
    "    if predict(input) == 1:\n",
    "        print(\"ANDNOT output: True\")\n",
    "    else:\n",
    "        print(\"ANDNOT output: False\")\n"
   ]
  },
  {
   "cell_type": "code",
   "execution_count": null,
   "metadata": {},
   "outputs": [],
   "source": []
  }
 ],
 "metadata": {
  "kernelspec": {
   "display_name": "Python 3 (ipykernel)",
   "language": "python",
   "name": "python3"
  },
  "language_info": {
   "codemirror_mode": {
    "name": "ipython",
    "version": 3
   },
   "file_extension": ".py",
   "mimetype": "text/x-python",
   "name": "python",
   "nbconvert_exporter": "python",
   "pygments_lexer": "ipython3",
   "version": "3.11.7"
  }
 },
 "nbformat": 4,
 "nbformat_minor": 4
}
