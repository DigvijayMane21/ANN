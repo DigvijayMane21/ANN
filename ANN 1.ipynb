{
 "cells": [
  {
   "cell_type": "code",
   "execution_count": null,
   "metadata": {},
   "outputs": [],
   "source": [
    "# 1. Write a python Program for Bidirectional Associative Memory with two pairs of vectors."
   ]
  },
  {
   "cell_type": "code",
   "execution_count": 2,
   "metadata": {},
   "outputs": [
    {
     "name": "stdout",
     "output_type": "stream",
     "text": [
      "Testing for input patterns: Set A\n",
      "\n",
      "Output of input pattern 1:\n",
      "[[1]\n",
      " [1]]\n",
      "\n",
      "Output of input pattern 2:\n",
      "[[-1]\n",
      " [-1]]\n",
      "\n",
      "Testing for target patterns: Set B\n",
      "\n",
      "Output of target pattern 1:\n",
      "[[1]\n",
      " [1]\n",
      " [1]\n",
      " [1]\n",
      " [1]\n",
      " [1]]\n",
      "\n",
      "Output of target pattern 2:\n",
      "[[-1]\n",
      " [-1]\n",
      " [-1]\n",
      " [-1]\n",
      " [-1]\n",
      " [-1]]\n"
     ]
    }
   ],
   "source": [
    "import numpy as np\n",
    "\n",
    "# Define two sets of patterns: Set A and Set B\n",
    "# Set A: Input Patterns\n",
    "x1 = np.array([1, 1, 1, 1, 1, 1]).reshape(6, 1)\n",
    "x2 = np.array([-1, -1, -1, -1, -1, -1]).reshape(6, 1)\n",
    "\n",
    "# Set B: Target Patterns\n",
    "y1 = np.array([1, 1]).reshape(2, 1)\n",
    "y2 = np.array([-1, -1]).reshape(2, 1)\n",
    "\n",
    "# Calculate the weight matrices: W and W_T\n",
    "W = np.dot(x1, y1.T) + np.dot(x2, y2.T)\n",
    "W_T = np.dot(y1, x1.T) + np.dot(y2, x2.T)\n",
    "\n",
    "# Testing Phase\n",
    "# Test for Input Patterns: Set A\n",
    "print(\"Testing for input patterns: Set A\")\n",
    "def testInputs(x, weight):\n",
    "    # Compute the output pattern\n",
    "    y = np.dot(weight, x)\n",
    "    y[y < 0] = -1\n",
    "    y[y >= 0] = 1\n",
    "    return y\n",
    "\n",
    "def testTargets(y, weight):\n",
    "    # Compute the output pattern\n",
    "    x = np.dot(weight, y)\n",
    "    x[x <= 0] = -1\n",
    "    x[x > 0] = 1\n",
    "    return x\n",
    "\n",
    "print(\"\\nOutput of input pattern 1:\")\n",
    "print(testInputs(x1, W_T))\n",
    "print(\"\\nOutput of input pattern 2:\")\n",
    "print(testInputs(x2, W_T))\n",
    "\n",
    "# Test for Target Patterns: Set B\n",
    "print(\"\\nTesting for target patterns: Set B\")\n",
    "\n",
    "print(\"\\nOutput of target pattern 1:\")\n",
    "print(testTargets(y1, W))\n",
    "print(\"\\nOutput of target pattern 2:\")\n",
    "print(testTargets(y2, W))\n"
   ]
  },
  {
   "cell_type": "code",
   "execution_count": 4,
   "metadata": {},
   "outputs": [],
   "source": [
    "# code2"
   ]
  },
  {
   "cell_type": "code",
   "execution_count": 3,
   "metadata": {},
   "outputs": [],
   "source": [
    "# Define two pairs of vectors\n",
    "X1 = np.array([1, 1, 1, 0, 0])\n",
    "X2 = np.array([0, 0, 1, 1, 1])\n",
    "Y1 = np.array([1, 0, 0])\n",
    "Y2 = np.array([0, 1, 0])"
   ]
  },
  {
   "cell_type": "code",
   "execution_count": 6,
   "metadata": {},
   "outputs": [],
   "source": [
    "# Define the weight matrix\n",
    "W = np.zeros((len(X1), len(Y1)))\n",
    "for i in range(len(X1)):\n",
    "    for j in range(len(Y1)):\n",
    "        W[i][j] = X1[i] * Y1[j] + X2[i] * Y2[j]"
   ]
  },
  {
   "cell_type": "code",
   "execution_count": 8,
   "metadata": {},
   "outputs": [],
   "source": [
    "#Define the BAM function\n",
    "def BAM(input_vector):\n",
    "    output_vector = np.zeros(len(Y1))\n",
    "    for j in range(len(Y1)):\n",
    "        sum = 0\n",
    "        for i in range(len(X1)):\n",
    "            sum += input_vector[i] * W[i][j]\n",
    "            output_vector[j] = sum\n",
    "            return output_vector"
   ]
  },
  {
   "cell_type": "code",
   "execution_count": 10,
   "metadata": {},
   "outputs": [
    {
     "name": "stdout",
     "output_type": "stream",
     "text": [
      "Input vector: [1 1 1 0 0]\n",
      "Output vector: [1. 0. 0.]\n"
     ]
    }
   ],
   "source": [
    "input_vector = X1\n",
    "output_vector = BAM(input_vector)\n",
    "print(\"Input vector:\", input_vector)\n",
    "print(\"Output vector:\", output_vector)"
   ]
  },
  {
   "cell_type": "code",
   "execution_count": null,
   "metadata": {},
   "outputs": [],
   "source": []
  }
 ],
 "metadata": {
  "kernelspec": {
   "display_name": "Python 3 (ipykernel)",
   "language": "python",
   "name": "python3"
  },
  "language_info": {
   "codemirror_mode": {
    "name": "ipython",
    "version": 3
   },
   "file_extension": ".py",
   "mimetype": "text/x-python",
   "name": "python",
   "nbconvert_exporter": "python",
   "pygments_lexer": "ipython3",
   "version": "3.11.7"
  }
 },
 "nbformat": 4,
 "nbformat_minor": 4
}
